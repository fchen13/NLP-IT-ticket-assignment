{
 "cells": [
  {
   "cell_type": "code",
   "execution_count": 1,
   "id": "59f4b300",
   "metadata": {},
   "outputs": [],
   "source": [
    "import pandas as pd\n",
    "import numpy as np\n",
    "import matplotlib.pyplot as plt\n",
    "%matplotlib inline\n",
    "import seaborn as sns"
   ]
  },
  {
   "cell_type": "code",
   "execution_count": 2,
   "id": "8f486cd6",
   "metadata": {},
   "outputs": [
    {
     "name": "stdout",
     "output_type": "stream",
     "text": [
      "(19796, 2)\n"
     ]
    },
    {
     "data": {
      "text/html": [
       "<div>\n",
       "<style scoped>\n",
       "    .dataframe tbody tr th:only-of-type {\n",
       "        vertical-align: middle;\n",
       "    }\n",
       "\n",
       "    .dataframe tbody tr th {\n",
       "        vertical-align: top;\n",
       "    }\n",
       "\n",
       "    .dataframe thead th {\n",
       "        text-align: right;\n",
       "    }\n",
       "</style>\n",
       "<table border=\"1\" class=\"dataframe\">\n",
       "  <thead>\n",
       "    <tr style=\"text-align: right;\">\n",
       "      <th></th>\n",
       "      <th>body</th>\n",
       "      <th>urgency</th>\n",
       "    </tr>\n",
       "  </thead>\n",
       "  <tbody>\n",
       "    <tr>\n",
       "      <th>0</th>\n",
       "      <td>connection issues with assigned address hi fac...</td>\n",
       "      <td>P1</td>\n",
       "    </tr>\n",
       "    <tr>\n",
       "      <th>1</th>\n",
       "      <td>cannot access hi cannot access fallowing link ...</td>\n",
       "      <td>P2</td>\n",
       "    </tr>\n",
       "    <tr>\n",
       "      <th>2</th>\n",
       "      <td>re address shown valid dear colleagues remarke...</td>\n",
       "      <td>P1</td>\n",
       "    </tr>\n",
       "    <tr>\n",
       "      <th>3</th>\n",
       "      <td>sent tuesday critical alert following alert oc...</td>\n",
       "      <td>P2</td>\n",
       "    </tr>\n",
       "    <tr>\n",
       "      <th>4</th>\n",
       "      <td>code spelling mistake hello should discover fo...</td>\n",
       "      <td>P2</td>\n",
       "    </tr>\n",
       "  </tbody>\n",
       "</table>\n",
       "</div>"
      ],
      "text/plain": [
       "                                                body urgency\n",
       "0  connection issues with assigned address hi fac...      P1\n",
       "1  cannot access hi cannot access fallowing link ...      P2\n",
       "2  re address shown valid dear colleagues remarke...      P1\n",
       "3  sent tuesday critical alert following alert oc...      P2\n",
       "4  code spelling mistake hello should discover fo...      P2"
      ]
     },
     "execution_count": 2,
     "metadata": {},
     "output_type": "execute_result"
    }
   ],
   "source": [
    "#Reading the support ticket data\n",
    "df = pd.read_csv('supportTicketData.csv')\n",
    "print(df.shape)\n",
    "df.head()"
   ]
  },
  {
   "cell_type": "code",
   "execution_count": 3,
   "id": "11db7c2a",
   "metadata": {},
   "outputs": [
    {
     "name": "stdout",
     "output_type": "stream",
     "text": [
      "urgency\n",
      "P1    6748\n",
      "P2    5528\n",
      "P3    7520\n",
      "dtype: int64\n"
     ]
    },
    {
     "data": {
      "image/png": "[encoded data removed]",
      "text/plain": [
       "<Figure size 432x288 with 1 Axes>"
      ]
     },
     "metadata": {
      "needs_background": "light"
     },
     "output_type": "display_data"
    }
   ],
   "source": [
    "#visualizing the distribution of target variable\n",
    "df.groupby('urgency').size().plot.bar()\n",
    "print(df.groupby('urgency').size())"
   ]
  },
  {
   "cell_type": "code",
   "execution_count": 4,
   "id": "91f2aeb6",
   "metadata": {},
   "outputs": [],
   "source": [
    "#there are ennough rows for each ticket type, and thus can be considered as balanced dataset. "
   ]
  },
  {
   "cell_type": "code",
   "execution_count": 5,
   "id": "6ad1bc63",
   "metadata": {},
   "outputs": [
    {
     "data": {
      "text/plain": [
       "<19796x9099 sparse matrix of type '<class 'numpy.float64'>'\n",
       "\twith 464014 stored elements in Compressed Sparse Row format>"
      ]
     },
     "execution_count": 5,
     "metadata": {},
     "output_type": "execute_result"
    }
   ],
   "source": [
    "#TF-IDF vectorization: converting text data to numeric \n",
    "from sklearn.feature_extraction.text import TfidfVectorizer\n",
    "from sklearn.feature_extraction._stop_words import ENGLISH_STOP_WORDS\n",
    "\n",
    "corpus = df['body'].values\n",
    "\n",
    "vectorizer = TfidfVectorizer(stop_words='english')\n",
    "X = vectorizer.fit_transform(corpus)\n",
    "X"
   ]
  },
  {
   "cell_type": "code",
   "execution_count": 6,
   "id": "a322827a",
   "metadata": {},
   "outputs": [
    {
     "name": "stdout",
     "output_type": "stream",
     "text": [
      "(19796, 9100)\n"
     ]
    },
    {
     "data": {
      "text/html": [
       "<div>\n",
       "<style scoped>\n",
       "    .dataframe tbody tr th:only-of-type {\n",
       "        vertical-align: middle;\n",
       "    }\n",
       "\n",
       "    .dataframe tbody tr th {\n",
       "        vertical-align: top;\n",
       "    }\n",
       "\n",
       "    .dataframe thead th {\n",
       "        text-align: right;\n",
       "    }\n",
       "</style>\n",
       "<table border=\"1\" class=\"dataframe\">\n",
       "  <thead>\n",
       "    <tr style=\"text-align: right;\">\n",
       "      <th></th>\n",
       "      <th>ab</th>\n",
       "      <th>abandon</th>\n",
       "      <th>abandoned</th>\n",
       "      <th>abc</th>\n",
       "      <th>abeam</th>\n",
       "      <th>abilities</th>\n",
       "      <th>ability</th>\n",
       "      <th>able</th>\n",
       "      <th>abnormal</th>\n",
       "      <th>abnormally</th>\n",
       "      <th>...</th>\n",
       "      <th>zig</th>\n",
       "      <th>zip</th>\n",
       "      <th>zipped</th>\n",
       "      <th>zipper</th>\n",
       "      <th>zipping</th>\n",
       "      <th>zone</th>\n",
       "      <th>zones</th>\n",
       "      <th>zoom</th>\n",
       "      <th>zooming</th>\n",
       "      <th>Priority</th>\n",
       "    </tr>\n",
       "  </thead>\n",
       "  <tbody>\n",
       "    <tr>\n",
       "      <th>0</th>\n",
       "      <td>0.0</td>\n",
       "      <td>0.0</td>\n",
       "      <td>0.0</td>\n",
       "      <td>0.0</td>\n",
       "      <td>0.0</td>\n",
       "      <td>0.0</td>\n",
       "      <td>0.0</td>\n",
       "      <td>0.0</td>\n",
       "      <td>0.0</td>\n",
       "      <td>0.0</td>\n",
       "      <td>...</td>\n",
       "      <td>0.0</td>\n",
       "      <td>0.0</td>\n",
       "      <td>0.0</td>\n",
       "      <td>0.0</td>\n",
       "      <td>0.0</td>\n",
       "      <td>0.0</td>\n",
       "      <td>0.0</td>\n",
       "      <td>0.0</td>\n",
       "      <td>0.0</td>\n",
       "      <td>P1</td>\n",
       "    </tr>\n",
       "    <tr>\n",
       "      <th>1</th>\n",
       "      <td>0.0</td>\n",
       "      <td>0.0</td>\n",
       "      <td>0.0</td>\n",
       "      <td>0.0</td>\n",
       "      <td>0.0</td>\n",
       "      <td>0.0</td>\n",
       "      <td>0.0</td>\n",
       "      <td>0.0</td>\n",
       "      <td>0.0</td>\n",
       "      <td>0.0</td>\n",
       "      <td>...</td>\n",
       "      <td>0.0</td>\n",
       "      <td>0.0</td>\n",
       "      <td>0.0</td>\n",
       "      <td>0.0</td>\n",
       "      <td>0.0</td>\n",
       "      <td>0.0</td>\n",
       "      <td>0.0</td>\n",
       "      <td>0.0</td>\n",
       "      <td>0.0</td>\n",
       "      <td>P2</td>\n",
       "    </tr>\n",
       "    <tr>\n",
       "      <th>2</th>\n",
       "      <td>0.0</td>\n",
       "      <td>0.0</td>\n",
       "      <td>0.0</td>\n",
       "      <td>0.0</td>\n",
       "      <td>0.0</td>\n",
       "      <td>0.0</td>\n",
       "      <td>0.0</td>\n",
       "      <td>0.0</td>\n",
       "      <td>0.0</td>\n",
       "      <td>0.0</td>\n",
       "      <td>...</td>\n",
       "      <td>0.0</td>\n",
       "      <td>0.0</td>\n",
       "      <td>0.0</td>\n",
       "      <td>0.0</td>\n",
       "      <td>0.0</td>\n",
       "      <td>0.0</td>\n",
       "      <td>0.0</td>\n",
       "      <td>0.0</td>\n",
       "      <td>0.0</td>\n",
       "      <td>P1</td>\n",
       "    </tr>\n",
       "    <tr>\n",
       "      <th>3</th>\n",
       "      <td>0.0</td>\n",
       "      <td>0.0</td>\n",
       "      <td>0.0</td>\n",
       "      <td>0.0</td>\n",
       "      <td>0.0</td>\n",
       "      <td>0.0</td>\n",
       "      <td>0.0</td>\n",
       "      <td>0.0</td>\n",
       "      <td>0.0</td>\n",
       "      <td>0.0</td>\n",
       "      <td>...</td>\n",
       "      <td>0.0</td>\n",
       "      <td>0.0</td>\n",
       "      <td>0.0</td>\n",
       "      <td>0.0</td>\n",
       "      <td>0.0</td>\n",
       "      <td>0.0</td>\n",
       "      <td>0.0</td>\n",
       "      <td>0.0</td>\n",
       "      <td>0.0</td>\n",
       "      <td>P2</td>\n",
       "    </tr>\n",
       "    <tr>\n",
       "      <th>4</th>\n",
       "      <td>0.0</td>\n",
       "      <td>0.0</td>\n",
       "      <td>0.0</td>\n",
       "      <td>0.0</td>\n",
       "      <td>0.0</td>\n",
       "      <td>0.0</td>\n",
       "      <td>0.0</td>\n",
       "      <td>0.0</td>\n",
       "      <td>0.0</td>\n",
       "      <td>0.0</td>\n",
       "      <td>...</td>\n",
       "      <td>0.0</td>\n",
       "      <td>0.0</td>\n",
       "      <td>0.0</td>\n",
       "      <td>0.0</td>\n",
       "      <td>0.0</td>\n",
       "      <td>0.0</td>\n",
       "      <td>0.0</td>\n",
       "      <td>0.0</td>\n",
       "      <td>0.0</td>\n",
       "      <td>P2</td>\n",
       "    </tr>\n",
       "  </tbody>\n",
       "</table>\n",
       "<p>5 rows × 9100 columns</p>\n",
       "</div>"
      ],
      "text/plain": [
       "    ab  abandon  abandoned  abc  abeam  abilities  ability  able  abnormal  \\\n",
       "0  0.0      0.0        0.0  0.0    0.0        0.0      0.0   0.0       0.0   \n",
       "1  0.0      0.0        0.0  0.0    0.0        0.0      0.0   0.0       0.0   \n",
       "2  0.0      0.0        0.0  0.0    0.0        0.0      0.0   0.0       0.0   \n",
       "3  0.0      0.0        0.0  0.0    0.0        0.0      0.0   0.0       0.0   \n",
       "4  0.0      0.0        0.0  0.0    0.0        0.0      0.0   0.0       0.0   \n",
       "\n",
       "   abnormally  ...  zig  zip  zipped  zipper  zipping  zone  zones  zoom  \\\n",
       "0         0.0  ...  0.0  0.0     0.0     0.0      0.0   0.0    0.0   0.0   \n",
       "1         0.0  ...  0.0  0.0     0.0     0.0      0.0   0.0    0.0   0.0   \n",
       "2         0.0  ...  0.0  0.0     0.0     0.0      0.0   0.0    0.0   0.0   \n",
       "3         0.0  ...  0.0  0.0     0.0     0.0      0.0   0.0    0.0   0.0   \n",
       "4         0.0  ...  0.0  0.0     0.0     0.0      0.0   0.0    0.0   0.0   \n",
       "\n",
       "   zooming  Priority  \n",
       "0      0.0        P1  \n",
       "1      0.0        P2  \n",
       "2      0.0        P1  \n",
       "3      0.0        P2  \n",
       "4      0.0        P2  \n",
       "\n",
       "[5 rows x 9100 columns]"
      ]
     },
     "execution_count": 6,
     "metadata": {},
     "output_type": "execute_result"
    }
   ],
   "source": [
    "df_ML = pd.DataFrame(X.toarray(), columns=vectorizer.get_feature_names())\n",
    "df_ML['Priority'] = df['urgency']\n",
    "print(df_ML.shape)\n",
    "df_ML.head()"
   ]
  },
  {
   "cell_type": "code",
   "execution_count": 7,
   "id": "72578fdb",
   "metadata": {},
   "outputs": [],
   "source": [
    "#Dimension reduction of features\n",
    "from sklearn.decomposition import PCA\n",
    "response = df_ML.columns[-1]\n",
    "features = df_ML.columns[:-1]\n",
    "y = df_ML[response].values\n",
    "X = df_ML[features].values"
   ]
  },
  {
   "cell_type": "code",
   "execution_count": 11,
   "id": "ef12517b",
   "metadata": {},
   "outputs": [
    {
     "data": {
      "text/plain": [
       "Text(0, 0.5, '% variance explained')"
      ]
     },
     "execution_count": 11,
     "metadata": {},
     "output_type": "execute_result"
    },
    {
     "data": {
      "image/png": "[encoded data removed]",
      "text/plain": [
       "<Figure size 432x288 with 1 Axes>"
      ]
     },
     "metadata": {
      "needs_background": "light"
     },
     "output_type": "display_data"
    }
   ],
   "source": [
    "#trying out 5000 maximum principal component\n",
    "NumComponents = 5000\n",
    "pca = PCA(n_components=NumComponents)\n",
    "pca_fit = pca.fit(X)\n",
    "reduced_X = pca_fit.transform(X)\n",
    "var_explain_cum = np.cumsum(np.round(pca.explained_variance_ratio_, decimals=4)*100)\n",
    "df_var = pd.DataFrame({'x': np.arange(1,5001,1), \n",
    "                      'y': var_explain_cum})\n",
    "\n",
    "plt.plot(df_var['x'], df_var['y'])\n",
    "plt.xlabel('Number of components')\n",
    "plt.ylabel('% variance explained')"
   ]
  },
  {
   "cell_type": "code",
   "execution_count": 12,
   "id": "191663e2",
   "metadata": {},
   "outputs": [
    {
     "data": {
      "text/html": [
       "<div>\n",
       "<style scoped>\n",
       "    .dataframe tbody tr th:only-of-type {\n",
       "        vertical-align: middle;\n",
       "    }\n",
       "\n",
       "    .dataframe tbody tr th {\n",
       "        vertical-align: top;\n",
       "    }\n",
       "\n",
       "    .dataframe thead th {\n",
       "        text-align: right;\n",
       "    }\n",
       "</style>\n",
       "<table border=\"1\" class=\"dataframe\">\n",
       "  <thead>\n",
       "    <tr style=\"text-align: right;\">\n",
       "      <th></th>\n",
       "      <th>x</th>\n",
       "      <th>y</th>\n",
       "    </tr>\n",
       "  </thead>\n",
       "  <tbody>\n",
       "    <tr>\n",
       "      <th>2386</th>\n",
       "      <td>2387</td>\n",
       "      <td>95.36</td>\n",
       "    </tr>\n",
       "    <tr>\n",
       "      <th>2387</th>\n",
       "      <td>2388</td>\n",
       "      <td>95.36</td>\n",
       "    </tr>\n",
       "    <tr>\n",
       "      <th>2388</th>\n",
       "      <td>2389</td>\n",
       "      <td>95.36</td>\n",
       "    </tr>\n",
       "    <tr>\n",
       "      <th>2389</th>\n",
       "      <td>2390</td>\n",
       "      <td>95.36</td>\n",
       "    </tr>\n",
       "    <tr>\n",
       "      <th>2390</th>\n",
       "      <td>2391</td>\n",
       "      <td>95.36</td>\n",
       "    </tr>\n",
       "    <tr>\n",
       "      <th>...</th>\n",
       "      <td>...</td>\n",
       "      <td>...</td>\n",
       "    </tr>\n",
       "    <tr>\n",
       "      <th>4995</th>\n",
       "      <td>4996</td>\n",
       "      <td>95.36</td>\n",
       "    </tr>\n",
       "    <tr>\n",
       "      <th>4996</th>\n",
       "      <td>4997</td>\n",
       "      <td>95.36</td>\n",
       "    </tr>\n",
       "    <tr>\n",
       "      <th>4997</th>\n",
       "      <td>4998</td>\n",
       "      <td>95.36</td>\n",
       "    </tr>\n",
       "    <tr>\n",
       "      <th>4998</th>\n",
       "      <td>4999</td>\n",
       "      <td>95.36</td>\n",
       "    </tr>\n",
       "    <tr>\n",
       "      <th>4999</th>\n",
       "      <td>5000</td>\n",
       "      <td>95.36</td>\n",
       "    </tr>\n",
       "  </tbody>\n",
       "</table>\n",
       "<p>2614 rows × 2 columns</p>\n",
       "</div>"
      ],
      "text/plain": [
       "         x      y\n",
       "2386  2387  95.36\n",
       "2387  2388  95.36\n",
       "2388  2389  95.36\n",
       "2389  2390  95.36\n",
       "2390  2391  95.36\n",
       "...    ...    ...\n",
       "4995  4996  95.36\n",
       "4996  4997  95.36\n",
       "4997  4998  95.36\n",
       "4998  4999  95.36\n",
       "4999  5000  95.36\n",
       "\n",
       "[2614 rows x 2 columns]"
      ]
     },
     "execution_count": 12,
     "metadata": {},
     "output_type": "execute_result"
    }
   ],
   "source": [
    "df_var.loc[df_var['y']==np.max(df_var['y'])]"
   ]
  },
  {
   "cell_type": "code",
   "execution_count": 10,
   "id": "aa6ea3a8",
   "metadata": {},
   "outputs": [],
   "source": [
    "#from the chart above, we see that saturation occurs around 2400 principal components, at which 95% variance was explained.\n",
    "# Hence choosing 2400 principal components allows us to reduce the total number of columns from the originally 9099 feature columns"
   ]
  },
  {
   "cell_type": "code",
   "execution_count": 14,
   "id": "cfb7b4da",
   "metadata": {},
   "outputs": [],
   "source": [
    "ReducedComponents = 2400\n",
    "pca_2 = PCA(n_components=ReducedComponents)\n",
    "pca_fit_2 = pca_2.fit(X)\n",
    "reduced_X = pca_fit_2.transform(X)"
   ]
  },
  {
   "cell_type": "code",
   "execution_count": 16,
   "id": "875fae44",
   "metadata": {},
   "outputs": [
    {
     "data": {
      "text/plain": [
       "array(['PC1', 'PC2', 'PC3', ..., 'PC2398', 'PC2399', 'PC2400'],\n",
       "      dtype=object)"
      ]
     },
     "execution_count": 16,
     "metadata": {},
     "output_type": "execute_result"
    }
   ],
   "source": [
    "X = reduced_X\n",
    "Predictors=pd.Series(['PC']*ReducedComponents).str.cat(pd.Series(range(1,ReducedComponents+1)).apply(str)).values\n",
    "Predictors"
   ]
  },
  {
   "cell_type": "code",
   "execution_count": 17,
   "id": "6d24cc03",
   "metadata": {},
   "outputs": [
    {
     "name": "stdout",
     "output_type": "stream",
     "text": [
      "(13857, 2400)\n",
      "(13857,)\n",
      "(5939, 2400)\n",
      "(5939,)\n"
     ]
    }
   ],
   "source": [
    "#standardization/preparation of the data\n",
    "from sklearn.preprocessing import StandardScaler, MinMaxScaler\n",
    "PredictorScaler=MinMaxScaler() \n",
    "PredictorScalerFit=PredictorScaler.fit(X)\n",
    "X=PredictorScalerFit.transform(X)\n",
    "\n",
    "from sklearn.model_selection import train_test_split\n",
    "X_train, X_test, y_train, y_test = train_test_split(X, y, test_size=0.3, random_state=428)\n",
    "print(X_train.shape)\n",
    "print(y_train.shape)\n",
    "print(X_test.shape)\n",
    "print(y_test.shape)"
   ]
  },
  {
   "cell_type": "code",
   "execution_count": 18,
   "id": "c20fac0e",
   "metadata": {},
   "outputs": [
    {
     "data": {
      "text/html": [
       "<div>\n",
       "<style scoped>\n",
       "    .dataframe tbody tr th:only-of-type {\n",
       "        vertical-align: middle;\n",
       "    }\n",
       "\n",
       "    .dataframe tbody tr th {\n",
       "        vertical-align: top;\n",
       "    }\n",
       "\n",
       "    .dataframe thead th {\n",
       "        text-align: right;\n",
       "    }\n",
       "</style>\n",
       "<table border=\"1\" class=\"dataframe\">\n",
       "  <thead>\n",
       "    <tr style=\"text-align: right;\">\n",
       "      <th></th>\n",
       "      <th>PC1</th>\n",
       "      <th>PC2</th>\n",
       "      <th>PC3</th>\n",
       "      <th>PC4</th>\n",
       "      <th>PC5</th>\n",
       "      <th>PC6</th>\n",
       "      <th>PC7</th>\n",
       "      <th>PC8</th>\n",
       "      <th>PC9</th>\n",
       "      <th>PC10</th>\n",
       "      <th>...</th>\n",
       "      <th>PC2393</th>\n",
       "      <th>PC2394</th>\n",
       "      <th>PC2395</th>\n",
       "      <th>PC2396</th>\n",
       "      <th>PC2397</th>\n",
       "      <th>PC2398</th>\n",
       "      <th>PC2399</th>\n",
       "      <th>PC2400</th>\n",
       "      <th>Actual</th>\n",
       "      <th>Prediction</th>\n",
       "    </tr>\n",
       "  </thead>\n",
       "  <tbody>\n",
       "    <tr>\n",
       "      <th>0</th>\n",
       "      <td>0.170558</td>\n",
       "      <td>0.305704</td>\n",
       "      <td>0.320970</td>\n",
       "      <td>0.377645</td>\n",
       "      <td>0.300440</td>\n",
       "      <td>0.512070</td>\n",
       "      <td>0.328977</td>\n",
       "      <td>0.475587</td>\n",
       "      <td>0.417384</td>\n",
       "      <td>0.370245</td>\n",
       "      <td>...</td>\n",
       "      <td>0.484445</td>\n",
       "      <td>0.506587</td>\n",
       "      <td>0.491608</td>\n",
       "      <td>0.463133</td>\n",
       "      <td>0.456826</td>\n",
       "      <td>0.444785</td>\n",
       "      <td>0.457674</td>\n",
       "      <td>0.457422</td>\n",
       "      <td>P2</td>\n",
       "      <td>P3</td>\n",
       "    </tr>\n",
       "    <tr>\n",
       "      <th>1</th>\n",
       "      <td>0.059201</td>\n",
       "      <td>0.601946</td>\n",
       "      <td>0.716625</td>\n",
       "      <td>0.346003</td>\n",
       "      <td>0.197000</td>\n",
       "      <td>0.510065</td>\n",
       "      <td>0.323403</td>\n",
       "      <td>0.371535</td>\n",
       "      <td>0.366961</td>\n",
       "      <td>0.375005</td>\n",
       "      <td>...</td>\n",
       "      <td>0.511954</td>\n",
       "      <td>0.517759</td>\n",
       "      <td>0.532061</td>\n",
       "      <td>0.437250</td>\n",
       "      <td>0.453367</td>\n",
       "      <td>0.406826</td>\n",
       "      <td>0.468450</td>\n",
       "      <td>0.474043</td>\n",
       "      <td>P1</td>\n",
       "      <td>P1</td>\n",
       "    </tr>\n",
       "    <tr>\n",
       "      <th>2</th>\n",
       "      <td>0.169765</td>\n",
       "      <td>0.369158</td>\n",
       "      <td>0.204437</td>\n",
       "      <td>0.341261</td>\n",
       "      <td>0.279360</td>\n",
       "      <td>0.344128</td>\n",
       "      <td>0.309593</td>\n",
       "      <td>0.537349</td>\n",
       "      <td>0.394151</td>\n",
       "      <td>0.405068</td>\n",
       "      <td>...</td>\n",
       "      <td>0.518557</td>\n",
       "      <td>0.476271</td>\n",
       "      <td>0.541513</td>\n",
       "      <td>0.419214</td>\n",
       "      <td>0.435182</td>\n",
       "      <td>0.397477</td>\n",
       "      <td>0.467023</td>\n",
       "      <td>0.466151</td>\n",
       "      <td>P1</td>\n",
       "      <td>P1</td>\n",
       "    </tr>\n",
       "    <tr>\n",
       "      <th>3</th>\n",
       "      <td>0.163876</td>\n",
       "      <td>0.341312</td>\n",
       "      <td>0.193034</td>\n",
       "      <td>0.424293</td>\n",
       "      <td>0.302156</td>\n",
       "      <td>0.433852</td>\n",
       "      <td>0.399580</td>\n",
       "      <td>0.560354</td>\n",
       "      <td>0.423645</td>\n",
       "      <td>0.362899</td>\n",
       "      <td>...</td>\n",
       "      <td>0.532940</td>\n",
       "      <td>0.541031</td>\n",
       "      <td>0.502824</td>\n",
       "      <td>0.455795</td>\n",
       "      <td>0.425385</td>\n",
       "      <td>0.424898</td>\n",
       "      <td>0.441593</td>\n",
       "      <td>0.476013</td>\n",
       "      <td>P1</td>\n",
       "      <td>P2</td>\n",
       "    </tr>\n",
       "    <tr>\n",
       "      <th>4</th>\n",
       "      <td>0.192141</td>\n",
       "      <td>0.266889</td>\n",
       "      <td>0.231490</td>\n",
       "      <td>0.357927</td>\n",
       "      <td>0.278806</td>\n",
       "      <td>0.429476</td>\n",
       "      <td>0.451059</td>\n",
       "      <td>0.565867</td>\n",
       "      <td>0.436759</td>\n",
       "      <td>0.322583</td>\n",
       "      <td>...</td>\n",
       "      <td>0.522822</td>\n",
       "      <td>0.571892</td>\n",
       "      <td>0.646467</td>\n",
       "      <td>0.270331</td>\n",
       "      <td>0.392762</td>\n",
       "      <td>0.445125</td>\n",
       "      <td>0.377375</td>\n",
       "      <td>0.541406</td>\n",
       "      <td>P1</td>\n",
       "      <td>P3</td>\n",
       "    </tr>\n",
       "  </tbody>\n",
       "</table>\n",
       "<p>5 rows × 2402 columns</p>\n",
       "</div>"
      ],
      "text/plain": [
       "        PC1       PC2       PC3       PC4       PC5       PC6       PC7  \\\n",
       "0  0.170558  0.305704  0.320970  0.377645  0.300440  0.512070  0.328977   \n",
       "1  0.059201  0.601946  0.716625  0.346003  0.197000  0.510065  0.323403   \n",
       "2  0.169765  0.369158  0.204437  0.341261  0.279360  0.344128  0.309593   \n",
       "3  0.163876  0.341312  0.193034  0.424293  0.302156  0.433852  0.399580   \n",
       "4  0.192141  0.266889  0.231490  0.357927  0.278806  0.429476  0.451059   \n",
       "\n",
       "        PC8       PC9      PC10  ...    PC2393    PC2394    PC2395    PC2396  \\\n",
       "0  0.475587  0.417384  0.370245  ...  0.484445  0.506587  0.491608  0.463133   \n",
       "1  0.371535  0.366961  0.375005  ...  0.511954  0.517759  0.532061  0.437250   \n",
       "2  0.537349  0.394151  0.405068  ...  0.518557  0.476271  0.541513  0.419214   \n",
       "3  0.560354  0.423645  0.362899  ...  0.532940  0.541031  0.502824  0.455795   \n",
       "4  0.565867  0.436759  0.322583  ...  0.522822  0.571892  0.646467  0.270331   \n",
       "\n",
       "     PC2397    PC2398    PC2399    PC2400  Actual  Prediction  \n",
       "0  0.456826  0.444785  0.457674  0.457422      P2          P3  \n",
       "1  0.453367  0.406826  0.468450  0.474043      P1          P1  \n",
       "2  0.435182  0.397477  0.467023  0.466151      P1          P1  \n",
       "3  0.425385  0.424898  0.441593  0.476013      P1          P2  \n",
       "4  0.392762  0.445125  0.377375  0.541406      P1          P3  \n",
       "\n",
       "[5 rows x 2402 columns]"
      ]
     },
     "execution_count": 18,
     "metadata": {},
     "output_type": "execute_result"
    }
   ],
   "source": [
    "#training ML classification models\n",
    "#Naive Bayes model: GaussianNB is preferred in Binomial Classification, MultinomialNB is preferred in multi-class classification\n",
    "from sklearn.naive_bayes import GaussianNB, MultinomialNB\n",
    "clf_NB = GaussianNB()\n",
    "y_pred_NB = clf_NB.fit(X_train, y_train).predict(X_test)\n",
    "df_NB = pd.DataFrame(X_test, columns=Predictors)\n",
    "df_NB['Actual'] = y_test\n",
    "df_NB['Prediction'] = y_pred_NB\n",
    "df_NB.head()"
   ]
  },
  {
   "cell_type": "code",
   "execution_count": 19,
   "id": "cf9bdd9f",
   "metadata": {},
   "outputs": [
    {
     "data": {
      "image/png": "[encoded data removed]",
      "text/plain": [
       "<Figure size 432x288 with 2 Axes>"
      ]
     },
     "metadata": {
      "needs_background": "light"
     },
     "output_type": "display_data"
    }
   ],
   "source": [
    "#visualizing prediction results\n",
    "from sklearn.metrics import accuracy_score, confusion_matrix, classification_report\n",
    "\n",
    "def plot_cm(y_test, y_pred, model):\n",
    "    cm = confusion_matrix(y_test, y_pred)\n",
    "    sns.heatmap(cm, annot=True, lw=0.7, linecolor='red', fmt='g')\n",
    "    plt.title(model+' Confusion Matrix')\n",
    "    plt.xlabel('y predicted')\n",
    "    plt.ylabel('y test')\n",
    "plot_cm(y_test, y_pred_NB, 'Naive Bayes')"
   ]
  },
  {
   "cell_type": "code",
   "execution_count": 20,
   "id": "1724fef9",
   "metadata": {},
   "outputs": [
    {
     "name": "stdout",
     "output_type": "stream",
     "text": [
      "Accuracy of NB model on Testing Sample Data: 0.42\n"
     ]
    }
   ],
   "source": [
    "# Printing the Overall Accuracy of the model\n",
    "from sklearn import metrics\n",
    "F1_Score=metrics.f1_score(y_test, y_pred_NB, average='weighted')\n",
    "print('Accuracy of NB model on Testing Sample Data:', round(F1_Score,2))"
   ]
  },
  {
   "cell_type": "code",
   "execution_count": 21,
   "id": "70543734",
   "metadata": {},
   "outputs": [
    {
     "name": "stdout",
     "output_type": "stream",
     "text": [
      "Accuracy of the LR model on Testing Sample Data: 0.72\n"
     ]
    },
    {
     "data": {
      "image/png": "[encoded data removed]",
      "text/plain": [
       "<Figure size 432x288 with 2 Axes>"
      ]
     },
     "metadata": {
      "needs_background": "light"
     },
     "output_type": "display_data"
    }
   ],
   "source": [
    "#Logistic Regression model\n",
    "from sklearn.linear_model import LogisticRegression\n",
    "clf_LR = LogisticRegression(C=5, penalty='l2', solver='newton-cg')\n",
    "y_pred_LR = clf_LR.fit(X_train, y_train).predict(X_test)\n",
    "df_LR = pd.DataFrame(X_test, columns=Predictors)\n",
    "df_LR['Actual'] = y_test\n",
    "df_LR['Prediction'] = y_pred_LR\n",
    "\n",
    "F1_Score=metrics.f1_score(y_test, y_pred_LR, average='weighted')\n",
    "print('Accuracy of the LR model on Testing Sample Data:', round(F1_Score,2))\n",
    "\n",
    "plot_cm(y_test, y_pred_LR, 'Logistic Regression')"
   ]
  },
  {
   "cell_type": "code",
   "execution_count": 18,
   "id": "c4857734",
   "metadata": {},
   "outputs": [],
   "source": [
    "#other ML models, like decision trees, random forest, XGBoost were trained to this dataset, but painfully slow.\n",
    "#we will use LR model (at the reasonable accurcy of 73%) to predict the priority of incoming tickets."
   ]
  },
  {
   "cell_type": "code",
   "execution_count": 22,
   "id": "edb5b33e",
   "metadata": {},
   "outputs": [],
   "source": [
    "#training the best model on full data\n",
    "FinalModel = clf_LR.fit(X, y)"
   ]
  },
  {
   "cell_type": "code",
   "execution_count": 25,
   "id": "f1df6dbe",
   "metadata": {},
   "outputs": [],
   "source": [
    "# Defining a function which converts words into numeric vectors for prediction\n",
    "def FunctionPredictUrgency(inpText):\n",
    "    \n",
    "    # Using the same vectorizer converting the text to numeric vector\n",
    "    X=vectorizer.transform(inpText)\n",
    "    #print(X.toarray())\n",
    " \n",
    "    # calculating the principal components\n",
    "    reduced_X = pca_fit_2.transform(X.toarray())\n",
    "    \n",
    "    # If standardization/normalization was done on training\n",
    "    # then the above X must also be converted to same platform\n",
    "    # Generating the normalized values of X\n",
    "    X=PredictorScalerFit.transform(reduced_X)\n",
    "    \n",
    "    # Generating the prediction using Naive Bayes model and returning\n",
    "    Prediction=FinalModel.predict(X)\n",
    "    Result=pd.DataFrame(data=inpText, columns=['Text'])\n",
    "    Result['Prediction']=Prediction\n",
    "    return(Result)"
   ]
  },
  {
   "cell_type": "code",
   "execution_count": 26,
   "id": "d428b5c0",
   "metadata": {},
   "outputs": [
    {
     "data": {
      "text/html": [
       "<div>\n",
       "<style scoped>\n",
       "    .dataframe tbody tr th:only-of-type {\n",
       "        vertical-align: middle;\n",
       "    }\n",
       "\n",
       "    .dataframe tbody tr th {\n",
       "        vertical-align: top;\n",
       "    }\n",
       "\n",
       "    .dataframe thead th {\n",
       "        text-align: right;\n",
       "    }\n",
       "</style>\n",
       "<table border=\"1\" class=\"dataframe\">\n",
       "  <thead>\n",
       "    <tr style=\"text-align: right;\">\n",
       "      <th></th>\n",
       "      <th>Text</th>\n",
       "      <th>Prediction</th>\n",
       "    </tr>\n",
       "  </thead>\n",
       "  <tbody>\n",
       "    <tr>\n",
       "      <th>0</th>\n",
       "      <td>system down please restart it</td>\n",
       "      <td>P1</td>\n",
       "    </tr>\n",
       "    <tr>\n",
       "      <th>1</th>\n",
       "      <td>Please help to resolve system issue</td>\n",
       "      <td>P1</td>\n",
       "    </tr>\n",
       "    <tr>\n",
       "      <th>2</th>\n",
       "      <td>Hello how are you?</td>\n",
       "      <td>P3</td>\n",
       "    </tr>\n",
       "  </tbody>\n",
       "</table>\n",
       "</div>"
      ],
      "text/plain": [
       "                                  Text Prediction\n",
       "0        system down please restart it         P1\n",
       "1  Please help to resolve system issue         P1\n",
       "2                   Hello how are you?         P3"
      ]
     },
     "execution_count": 26,
     "metadata": {},
     "output_type": "execute_result"
    }
   ],
   "source": [
    "# Calling the function\n",
    "NewTicket=[\"system down please restart it\", \"Please help to resolve system issue\",\"Hello how are you?\"]\n",
    "PredictionResults=FunctionPredictUrgency(inpText=NewTicket)\n",
    "PredictionResults"
   ]
  },
  {
   "cell_type": "code",
   "execution_count": 27,
   "id": "20b72850",
   "metadata": {},
   "outputs": [],
   "source": [
    "# Saving the results as a csv file\n",
    "PredictionResults.to_csv('PredictionResults.csv',index=False)"
   ]
  },
  {
   "cell_type": "code",
   "execution_count": null,
   "id": "69c1f336",
   "metadata": {},
   "outputs": [],
   "source": []
  }
 ],
 "metadata": {
  "kernelspec": {
   "display_name": "Python 3 (ipykernel)",
   "language": "python",
   "name": "python3"
  },
  "language_info": {
   "codemirror_mode": {
    "name": "ipython",
    "version": 3
   },
   "file_extension": ".py",
   "mimetype": "text/x-python",
   "name": "python",
   "nbconvert_exporter": "python",
   "pygments_lexer": "ipython3",
   "version": "3.9.5"
  }
 },
 "nbformat": 4,
 "nbformat_minor": 5
}
